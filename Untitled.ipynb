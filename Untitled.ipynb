{
 "cells": [
  {
   "cell_type": "code",
   "execution_count": 11,
   "metadata": {},
   "outputs": [
    {
     "name": "stdin",
     "output_type": "stream",
     "text": [
      "Enter input file name (with .txt):  input.txt\n",
      "Enter output HTML file name (with .html):  Adx\n"
     ]
    },
    {
     "name": "stdout",
     "output_type": "stream",
     "text": [
      "✅ Done! Fast HTML तयार: Adx\n"
     ]
    }
   ],
   "source": [
    "# -*- coding: utf-8 -*-\n",
    "import re\n",
    "\n",
    "# 🔹 Input file select\n",
    "input_path = input(\"Enter input file name (with .txt): \").strip()\n",
    "\n",
    "# 🔹 Output file name\n",
    "output_path = input(\"Enter output HTML file name (with .html): \").strip()\n",
    "\n",
    "# 🔹 Styles\n",
    "styles = {\n",
    "    \"वचन\": {\"color\": \"#FF0000\", \"font\": \"Noto Serif Devanagari\", \"size\": \"20px\"},\n",
    "    \"लापिका\": {\"color\": \"#00008B\", \"font\": \"Noto Sans Devanagari\", \"size\": \"18px\"},\n",
    "    \"टीका\": {\"color\": \"#404040\", \"font\": \"Noto Sans\", \"size\": \"16px\"}\n",
    "}\n",
    "\n",
    "html_lines = [\"<html><body style='text-align:center; font-size:16px;'>\"]\n",
    "\n",
    "# 🔹 Read input line by line\n",
    "with open(input_path, \"r\", encoding=\"utf-8\") as f:\n",
    "    for line in f:\n",
    "        line = line.strip()\n",
    "        for prefix, style in styles.items():\n",
    "            if line.startswith(f\"{prefix}:-\"):\n",
    "                content = line[len(f\"{prefix}:-\"):].strip()\n",
    "                html_lines.append(\n",
    "                    f\"<div style='color:{style['color']}; font-family:{style['font']}; font-size:{style['size']}; margin-bottom:5px;'>{content}</div>\"\n",
    "                )\n",
    "                break\n",
    "\n",
    "html_lines.append(\"</body></html>\")\n",
    "\n",
    "# 🔹 Write HTML\n",
    "with open(output_path, \"w\", encoding=\"utf-8\") as f:\n",
    "    f.write(\"\\n\".join(html_lines))\n",
    "\n",
    "print(f\"✅ Done! Fast HTML तयार: {output_path}\")"
   ]
  },
  {
   "cell_type": "code",
   "execution_count": null,
   "metadata": {},
   "outputs": [],
   "source": []
  }
 ],
 "metadata": {
  "kernelspec": {
   "display_name": "Python 3 (ipykernel)",
   "language": "python",
   "name": "python3"
  },
  "language_info": {
   "codemirror_mode": {
    "name": "ipython",
    "version": 3
   },
   "file_extension": ".py",
   "mimetype": "text/x-python",
   "name": "python",
   "nbconvert_exporter": "python",
   "pygments_lexer": "ipython3",
   "version": "3.11.0"
  }
 },
 "nbformat": 4,
 "nbformat_minor": 4
}
